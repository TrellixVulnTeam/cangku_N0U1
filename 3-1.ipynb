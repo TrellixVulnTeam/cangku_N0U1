{
 "cells": [
  {
   "cell_type": "code",
   "execution_count": 80,
   "metadata": {
    "collapsed": false
   },
   "outputs": [],
   "source": [
    "# 多元线性回归"
   ]
  },
  {
   "cell_type": "markdown",
   "metadata": {
    "collapsed": false
   },
   "source": [
    "## 安装并导入可能需要的模块"
   ]
  },
  {
   "cell_type": "code",
   "execution_count": 81,
   "metadata": {
    "collapsed": false
   },
   "outputs": [],
   "source": [
    "# !pip install cython\r\n",
    "# !pip install scipy\r\n",
    "# !pip install statsmodels"
   ]
  },
  {
   "cell_type": "code",
   "execution_count": 82,
   "metadata": {
    "collapsed": false
   },
   "outputs": [],
   "source": [
    "import numpy as np\n",
    "import matplotlib.pyplot as plt\n",
    "import pandas as pd"
   ]
  },
  {
   "cell_type": "markdown",
   "metadata": {
    "collapsed": false
   },
   "source": [
    "## 读取数据并查看数据特征"
   ]
  },
  {
   "cell_type": "code",
   "execution_count": 83,
   "metadata": {
    "collapsed": false
   },
   "outputs": [
    {
     "name": "stdout",
     "output_type": "stream",
     "text": [
      "   R&D Spend  Administration  Marketing Spend       State     Profit\n",
      "0  165349.20       136897.80        471784.10    New York  192261.83\n",
      "1  162597.70       151377.59        443898.53  California  191792.06\n",
      "2  153441.51       101145.55        407934.54     Florida  191050.39\n",
      "3  144372.41       118671.85        383199.62    New York  182901.99\n",
      "4  142107.34        91391.77        366168.42     Florida  166187.94\n",
      "Index(['R&D Spend', 'Administration', 'Marketing Spend', 'State', 'Profit'], dtype='object')\n",
      "RangeIndex(start=0, stop=50, step=1)\n",
      "(50, 5)\n",
      "           R&D Spend  Administration  Marketing Spend         Profit\n",
      "count      50.000000       50.000000        50.000000      50.000000\n",
      "mean    73721.615600   121344.639600    211025.097800  112012.639200\n",
      "std     45902.256482    28017.802755    122290.310726   40306.180338\n",
      "min         0.000000    51283.140000         0.000000   14681.400000\n",
      "25%     39936.370000   103730.875000    129300.132500   90138.902500\n",
      "50%     73051.080000   122699.795000    212716.240000  107978.190000\n",
      "75%    101602.800000   144842.180000    299469.085000  139765.977500\n",
      "max    165349.200000   182645.560000    471784.100000  192261.830000\n"
     ]
    }
   ],
   "source": [
    "data = pd.read_csv('/home/aistudio/work/50_Startups.csv') # 读取数据\n",
    "print(data.head())      # 查看前5条数据\n",
    "print(data.columns)     # 查看列索引\n",
    "print(data.index)       # 查看行索引\n",
    "print(data.shape)       # 查看数据集大小 shape[0]表示行数 shape[1]表示列数\n",
    "print(data.describe())  # 查看数据集总体的一些统计特征 如数量、均值、标准差、分位点"
   ]
  },
  {
   "cell_type": "markdown",
   "metadata": {
    "collapsed": false
   },
   "source": [
    "## 选取自变量、因变量"
   ]
  },
  {
   "cell_type": "code",
   "execution_count": 84,
   "metadata": {
    "collapsed": false
   },
   "outputs": [],
   "source": [
    "# 选择自变量X\r\n",
    "# ['R&D Spend', 'Administration', 'Marketing Spend', 'State']\r\n",
    "# ['研发支出',   '管理费用',        '市场营销',        '州']\r\n",
    "# 选择因变量y\r\n",
    "X = dataset.iloc[:, :-1].values # 自变量\r\n",
    "y = dataset.iloc[:, 4].values # profit 利润"
   ]
  },
  {
   "cell_type": "markdown",
   "metadata": {
    "collapsed": false
   },
   "source": [
    "## 将数据中分类数据进行转换"
   ]
  },
  {
   "cell_type": "code",
   "execution_count": 85,
   "metadata": {
    "collapsed": false
   },
   "outputs": [
    {
     "data": {
      "text/plain": [
       "State    3\n",
       "dtype: int64"
      ]
     },
     "execution_count": 85,
     "metadata": {},
     "output_type": "execute_result"
    }
   ],
   "source": [
    "# 由常识知道State是分类数据,下面查看State列的可能取值有几种\r\n",
    "dataset[[\"State\"]].nunique()"
   ]
  },
  {
   "cell_type": "code",
   "execution_count": 86,
   "metadata": {
    "collapsed": false
   },
   "outputs": [],
   "source": [
    "# 下面进行分类数据 分别采用OneHotEncoder、LabelEncoder进行编码\r\n",
    "# 首先导入编码需要的模块\r\n",
    "from sklearn.preprocessing import LabelEncoder, OneHotEncoder"
   ]
  },
  {
   "cell_type": "markdown",
   "metadata": {
    "collapsed": true
   },
   "source": [
    "- 函数原型\n",
    "```\n",
    "class sklearn.compose.ColumnTransformer(transformers, remainder=’drop’, sparse_threshold=0.3, n_jobs=None, transformer_weights=None)\n",
    "```\n",
    "- 参数transformers:该参数是一个由元组组成的列表(list of tuples)，每个元组的结构为：(name, transformer, column):\n",
    "\t- name: transformer的名字，随便起一个字符串即可；\n",
    "\t- transformer: 支持 fit 和 transform 的estimator或者 passthrough 或者 drop. \n",
    "\t- column: 指定对哪些列做转换操作，所以可以是下标、列名等。\n",
    "- 参数remainder:这个参数的值可以是支持 fit 和 transform 的estimator或者 passthrough 或者 drop ，默认值是drop，其功能和transformers参数非常像：\n",
    "  - drop：表示将column指定的列之外的其他列都丢弃；\n",
    "  - passthrough：表示将column指定的列之外的其他列透传；\n",
    "  - estimator：表示对column指定的列之外的其他列执行该estimator代表的转换。\n"
   ]
  },
  {
   "cell_type": "code",
   "execution_count": 87,
   "metadata": {
    "collapsed": false
   },
   "outputs": [],
   "source": [
    "# 采用独热编码转换 两种实现方案\r\n",
    "# 实现独热编码的方法一\r\n",
    "# 先做一个编码器\r\n",
    "from sklearn.compose import ColumnTransformer\r\n",
    "st=ColumnTransformer([('State',OneHotEncoder(),[3])],remainder='passthrough')\r\n",
    "# 在使用这个编码器对X编码 编码后的数据\r\n",
    "X = st.fit_transform(X)\r\n",
    "# X['State']可能取值集合：{'New York','California','Florida'} 共三种可能情况 因此独热码有3位标识\r\n",
    "# 0.0.1表示New York 1.0.0表示California 0.1.0表示Florida"
   ]
  },
  {
   "cell_type": "code",
   "execution_count": 88,
   "metadata": {
    "collapsed": false
   },
   "outputs": [
    {
     "data": {
      "text/plain": [
       "array([[0.0, 0.0, 1.0, 136897.8, 471784.1, 0.0, 0.0, 0.0, 0.0, 0.0, 0.0,\n",
       "        0.0, 0.0, 0.0, 0.0, 0.0, 0.0, 0.0, 0.0, 0.0, 0.0, 0.0, 0.0, 0.0,\n",
       "        0.0, 0.0, 0.0, 0.0, 0.0, 0.0, 0.0, 0.0, 0.0, 0.0, 0.0, 0.0, 0.0,\n",
       "        0.0, 0.0, 0.0, 0.0, 0.0, 0.0, 0.0, 0.0, 0.0, 0.0, 0.0, 0.0, 0.0,\n",
       "        0.0, 0.0, 0.0, 1.0],\n",
       "       [1.0, 0.0, 0.0, 151377.59, 443898.53, 0.0, 0.0, 0.0, 0.0, 0.0,\n",
       "        0.0, 0.0, 0.0, 0.0, 0.0, 0.0, 0.0, 0.0, 0.0, 0.0, 0.0, 0.0, 0.0,\n",
       "        0.0, 0.0, 0.0, 0.0, 0.0, 0.0, 0.0, 0.0, 0.0, 0.0, 0.0, 0.0, 0.0,\n",
       "        0.0, 0.0, 0.0, 0.0, 0.0, 0.0, 0.0, 0.0, 0.0, 0.0, 0.0, 0.0, 0.0,\n",
       "        0.0, 0.0, 0.0, 1.0, 0.0],\n",
       "       [0.0, 1.0, 0.0, 101145.55, 407934.54, 0.0, 0.0, 0.0, 0.0, 0.0,\n",
       "        0.0, 0.0, 0.0, 0.0, 0.0, 0.0, 0.0, 0.0, 0.0, 0.0, 0.0, 0.0, 0.0,\n",
       "        0.0, 0.0, 0.0, 0.0, 0.0, 0.0, 0.0, 0.0, 0.0, 0.0, 0.0, 0.0, 0.0,\n",
       "        0.0, 0.0, 0.0, 0.0, 0.0, 0.0, 0.0, 0.0, 0.0, 0.0, 0.0, 0.0, 0.0,\n",
       "        0.0, 0.0, 1.0, 0.0, 0.0]], dtype=object)"
      ]
     },
     "execution_count": 88,
     "metadata": {},
     "output_type": "execute_result"
    }
   ],
   "source": [
    "# 实现独热编码的方法二\r\n",
    "enc = OneHotEncoder()\r\n",
    "enc.fit(X[:,3:4])                           # fit来学习编码\r\n",
    "code = enc.transform(X[:,3:4]).toarray()    # 进行编码\r\n",
    "X = np.append(X, code, axis=1)              # 编码追加到X\r\n",
    "X = np.delete(X, 3, axis=1)                 # 删除原来的列\r\n",
    "X[0:3]"
   ]
  },
  {
   "cell_type": "code",
   "execution_count": 89,
   "metadata": {
    "collapsed": false
   },
   "outputs": [],
   "source": [
    "# 另一种编码方式 LabelEncodeer\n",
    "labelencoder_X = LabelEncoder()\n",
    "X[:,3] = labelencoder_X.fit_transform(X[:,3])"
   ]
  },
  {
   "cell_type": "markdown",
   "metadata": {
    "collapsed": false
   },
   "source": [
    "## 划分训练集、测试集"
   ]
  },
  {
   "cell_type": "markdown",
   "metadata": {
    "collapsed": false
   },
   "source": [
    "- 训练集相当于上课学知识\n",
    "- 验证集相当于课后的的练习题，用来纠正和强化学到的知识\n",
    "- 测试集相当于期末考试，用来最终评估学习效果"
   ]
  },
  {
   "cell_type": "code",
   "execution_count": 90,
   "metadata": {
    "collapsed": false
   },
   "outputs": [],
   "source": [
    "# from sklearn.cross_validation import train_test\n",
    "# 注意：上面的这种导入方式在目前版本的sklearn种已经被弃用\n",
    "# 可以使用的导入方式应该是下面这样的\n",
    "# from sklearn.model_selection import train_test_split"
   ]
  },
  {
   "cell_type": "code",
   "execution_count": 91,
   "metadata": {
    "collapsed": false
   },
   "outputs": [],
   "source": [
    "# 导入划分训练集与测试集所需要的模块\r\n",
    "from sklearn.model_selection import train_test_split\r\n",
    "# 划分训练集与测试集 比例是train:test=8:2\r\n",
    "X_train, X_test, y_train, y_test = train_test_split(X, y, test_size=0.2, random_state=0)"
   ]
  },
  {
   "cell_type": "code",
   "execution_count": 92,
   "metadata": {
    "collapsed": false
   },
   "outputs": [
    {
     "name": "stdout",
     "output_type": "stream",
     "text": [
      "X_train： [[0.0 1.0 0.0 12 214634.81 0.0 0.0 0.0 0.0 0.0 0.0 0.0 0.0 0.0 0.0 0.0\n",
      "  0.0 0.0 0.0 0.0 1.0 0.0 0.0 0.0 0.0 0.0 0.0 0.0 0.0 0.0 0.0 0.0 0.0 0.0\n",
      "  0.0 0.0 0.0 0.0 0.0 0.0 0.0 0.0 0.0 0.0 0.0 0.0 0.0 0.0 0.0 0.0 0.0 0.0\n",
      "  0.0 0.0]\n",
      " [0.0 0.0 1.0 5 205517.64 0.0 0.0 0.0 0.0 0.0 0.0 0.0 0.0 0.0 0.0 0.0 0.0\n",
      "  0.0 1.0 0.0 0.0 0.0 0.0 0.0 0.0 0.0 0.0 0.0 0.0 0.0 0.0 0.0 0.0 0.0 0.0\n",
      "  0.0 0.0 0.0 0.0 0.0 0.0 0.0 0.0 0.0 0.0 0.0 0.0 0.0 0.0 0.0 0.0 0.0 0.0\n",
      "  0.0]\n",
      " [0.0 1.0 0.0 36 134050.07 0.0 0.0 0.0 0.0 0.0 0.0 0.0 0.0 0.0 0.0 0.0\n",
      "  0.0 0.0 0.0 0.0 0.0 0.0 0.0 0.0 0.0 0.0 0.0 0.0 0.0 0.0 1.0 0.0 0.0 0.0\n",
      "  0.0 0.0 0.0 0.0 0.0 0.0 0.0 0.0 0.0 0.0 0.0 0.0 0.0 0.0 0.0 0.0 0.0 0.0\n",
      "  0.0 0.0]\n",
      " [1.0 0.0 0.0 48 210797.67 0.0 0.0 0.0 0.0 0.0 0.0 0.0 0.0 0.0 0.0 0.0\n",
      "  0.0 0.0 0.0 1.0 0.0 0.0 0.0 0.0 0.0 0.0 0.0 0.0 0.0 0.0 0.0 0.0 0.0 0.0\n",
      "  0.0 0.0 0.0 0.0 0.0 0.0 0.0 0.0 0.0 0.0 0.0 0.0 0.0 0.0 0.0 0.0 0.0 0.0\n",
      "  0.0 0.0]\n",
      " [0.0 1.0 0.0 17 294919.57 0.0 0.0 0.0 0.0 0.0 0.0 0.0 0.0 0.0 0.0 0.0\n",
      "  0.0 0.0 0.0 0.0 0.0 0.0 0.0 0.0 0.0 0.0 0.0 0.0 0.0 0.0 0.0 0.0 0.0 0.0\n",
      "  0.0 0.0 1.0 0.0 0.0 0.0 0.0 0.0 0.0 0.0 0.0 0.0 0.0 0.0 0.0 0.0 0.0 0.0\n",
      "  0.0 0.0]]\n",
      "y_train： [ 96778.92  96479.51 105733.54  96712.8  124266.9 ]\n",
      "X_test： [[0.0 1.0 0.0 49 118148.2 0.0 0.0 0.0 0.0 0.0 0.0 0.0 0.0 0.0 0.0 0.0 0.0\n",
      "  0.0 0.0 0.0 0.0 0.0 0.0 0.0 0.0 0.0 1.0 0.0 0.0 0.0 0.0 0.0 0.0 0.0 0.0\n",
      "  0.0 0.0 0.0 0.0 0.0 0.0 0.0 0.0 0.0 0.0 0.0 0.0 0.0 0.0 0.0 0.0 0.0 0.0\n",
      "  0.0]\n",
      " [1.0 0.0 0.0 7 249744.55 0.0 0.0 0.0 0.0 0.0 0.0 0.0 0.0 0.0 0.0 0.0 0.0\n",
      "  0.0 0.0 0.0 0.0 0.0 0.0 0.0 0.0 0.0 0.0 0.0 0.0 0.0 0.0 0.0 0.0 0.0 0.0\n",
      "  0.0 0.0 0.0 0.0 0.0 1.0 0.0 0.0 0.0 0.0 0.0 0.0 0.0 0.0 0.0 0.0 0.0 0.0\n",
      "  0.0]\n",
      " [0.0 1.0 0.0 15 229160.95 0.0 0.0 0.0 0.0 0.0 0.0 0.0 0.0 0.0 0.0 0.0\n",
      "  0.0 0.0 0.0 0.0 0.0 0.0 0.0 0.0 0.0 0.0 0.0 0.0 0.0 0.0 0.0 0.0 0.0 0.0\n",
      "  0.0 0.0 0.0 0.0 0.0 0.0 0.0 1.0 0.0 0.0 0.0 0.0 0.0 0.0 0.0 0.0 0.0 0.0\n",
      "  0.0 0.0]\n",
      " [0.0 1.0 0.0 4 164470.71 0.0 0.0 0.0 0.0 0.0 0.0 0.0 0.0 1.0 0.0 0.0 0.0\n",
      "  0.0 0.0 0.0 0.0 0.0 0.0 0.0 0.0 0.0 0.0 0.0 0.0 0.0 0.0 0.0 0.0 0.0 0.0\n",
      "  0.0 0.0 0.0 0.0 0.0 0.0 0.0 0.0 0.0 0.0 0.0 0.0 0.0 0.0 0.0 0.0 0.0 0.0\n",
      "  0.0]\n",
      " [0.0 1.0 0.0 11 407934.54 0.0 0.0 0.0 0.0 0.0 0.0 0.0 0.0 0.0 0.0 0.0\n",
      "  0.0 0.0 0.0 0.0 0.0 0.0 0.0 0.0 0.0 0.0 0.0 0.0 0.0 0.0 0.0 0.0 0.0 0.0\n",
      "  0.0 0.0 0.0 0.0 0.0 0.0 0.0 0.0 0.0 0.0 0.0 0.0 0.0 0.0 0.0 0.0 0.0 1.0\n",
      "  0.0 0.0]]\n",
      "y_test： [103282.38 144259.4  146121.95  77798.83 191050.39]\n"
     ]
    }
   ],
   "source": [
    "print(\"X_train：\",X_train[0:5]) # 查看训练集特征前5条\r\n",
    "print(\"y_train：\",y_train[0:5]) # 查看训练集标签前5条\r\n",
    "print(\"X_test：\",X_test[0:5])  # 查看测试集特征前5条\r\n",
    "print(\"y_test：\",y_test[0:5])  # 查看测试集标签前5条"
   ]
  },
  {
   "cell_type": "markdown",
   "metadata": {
    "collapsed": false
   },
   "source": [
    "## 多元线性回归模型"
   ]
  },
  {
   "cell_type": "code",
   "execution_count": 93,
   "metadata": {
    "collapsed": false
   },
   "outputs": [
    {
     "name": "stderr",
     "output_type": "stream",
     "text": [
      "/opt/conda/envs/python35-paddle120-env/lib/python3.7/importlib/_bootstrap.py:219: RuntimeWarning: numpy.ufunc size changed, may indicate binary incompatibility. Expected 192 from C header, got 216 from PyObject\n",
      "  return f(*args, **kwds)\n"
     ]
    },
    {
     "data": {
      "text/plain": [
       "LinearRegression(copy_X=True, fit_intercept=True, n_jobs=None, normalize=False)"
      ]
     },
     "execution_count": 93,
     "metadata": {},
     "output_type": "execute_result"
    }
   ],
   "source": [
    "from sklearn.linear_model import LinearRegression # 线性回归模型\n",
    "model = LinearRegression()     # 实例化一个模型\n",
    "model.fit(X_train, y_train)    # 训练拟合模型"
   ]
  },
  {
   "cell_type": "code",
   "execution_count": 94,
   "metadata": {
    "collapsed": false
   },
   "outputs": [
    {
     "name": "stdout",
     "output_type": "stream",
     "text": [
      "[161471.64664003  61943.24973421  80223.48879458  40547.59593576\n",
      "  92719.75013245]\n",
      "[ 96778.91999999  96479.50999999 105733.53999996  96712.79999999\n",
      " 124266.90000003]\n"
     ]
    }
   ],
   "source": [
    "y_test_pred = model.predict(X_test)    # 在测试集上使用模型进行预测\r\n",
    "y_train_pred = model.predict(X_train)  # 在训练集上使用模型进行预测\r\n",
    "print(y_test_pred[0:5])    # 输出测试集前5条预测结果\r\n",
    "print(y_train_pred[0:5])   # 输出训练集前5条预测结果"
   ]
  },
  {
   "cell_type": "markdown",
   "metadata": {
    "collapsed": false
   },
   "source": [
    "### **以上为all in的建模方法**\n",
    "![](https://ai-studio-static-online.cdn.bcebos.com/6af0045a9db14778968eadc3d26564533efbbddb164442e6aa6e17c08f59ef35)\n",
    "\n",
    "### **下面是Backward  Elimination建模方法**\n",
    "![](https://ai-studio-static-online.cdn.bcebos.com/478d1c5fd30f409692120aafaa9716942f21828eb1364de384f8973fa3e0fdf8)\n"
   ]
  },
  {
   "cell_type": "code",
   "execution_count": 95,
   "metadata": {
    "collapsed": false
   },
   "outputs": [],
   "source": [
    "#导入标准库\r\n",
    "import statsmodels.formula.api as sm"
   ]
  },
  {
   "cell_type": "code",
   "execution_count": 96,
   "metadata": {
    "collapsed": false
   },
   "outputs": [],
   "source": [
    "#由于标准库中的函数是不包含常数项的，所以需要手动加上一列\r\n",
    "X_train = np.append(arr = np.ones((40, 1)).astype(int), values = X_train, axis = 1)\r\n",
    "# 在[1,1,...,1]T追加X_train 并把结果保存在X_train中"
   ]
  },
  {
   "cell_type": "markdown",
   "metadata": {
    "collapsed": false
   },
   "source": [
    "**下面代码有误，请修改，使之正确**\n",
    "\n",
    "**请写出修订后代码及说明**"
   ]
  },
  {
   "cell_type": "code",
   "execution_count": 97,
   "metadata": {
    "collapsed": false
   },
   "outputs": [],
   "source": [
    "X_train = pd.DataFrame(X_train).astype(float)   # 转DataFrame\n",
    "X_opt = X_train.iloc[:, [0, 1, 2, 3, 4, 5]]     # 变量替换"
   ]
  },
  {
   "cell_type": "code",
   "execution_count": 98,
   "metadata": {
    "collapsed": false
   },
   "outputs": [
    {
     "data": {
      "text/html": [
       "<table class=\"simpletable\">\n",
       "<caption>OLS Regression Results</caption>\n",
       "<tr>\n",
       "  <th>Dep. Variable:</th>            <td>y</td>        <th>  R-squared:         </th> <td>   0.662</td>\n",
       "</tr>\n",
       "<tr>\n",
       "  <th>Model:</th>                   <td>OLS</td>       <th>  Adj. R-squared:    </th> <td>   0.623</td>\n",
       "</tr>\n",
       "<tr>\n",
       "  <th>Method:</th>             <td>Least Squares</td>  <th>  F-statistic:       </th> <td>   17.13</td>\n",
       "</tr>\n",
       "<tr>\n",
       "  <th>Date:</th>             <td>Sun, 11 Jul 2021</td> <th>  Prob (F-statistic):</th> <td>7.19e-08</td>\n",
       "</tr>\n",
       "<tr>\n",
       "  <th>Time:</th>                 <td>18:41:19</td>     <th>  Log-Likelihood:    </th> <td> -459.39</td>\n",
       "</tr>\n",
       "<tr>\n",
       "  <th>No. Observations:</th>      <td>    40</td>      <th>  AIC:               </th> <td>   928.8</td>\n",
       "</tr>\n",
       "<tr>\n",
       "  <th>Df Residuals:</th>          <td>    35</td>      <th>  BIC:               </th> <td>   937.2</td>\n",
       "</tr>\n",
       "<tr>\n",
       "  <th>Df Model:</th>              <td>     4</td>      <th>                     </th>     <td> </td>   \n",
       "</tr>\n",
       "<tr>\n",
       "  <th>Covariance Type:</th>      <td>nonrobust</td>    <th>                     </th>     <td> </td>   \n",
       "</tr>\n",
       "</table>\n",
       "<table class=\"simpletable\">\n",
       "<tr>\n",
       "  <td></td>     <th>coef</th>     <th>std err</th>      <th>t</th>      <th>P>|t|</th>  <th>[0.025</th>    <th>0.975]</th>  \n",
       "</tr>\n",
       "<tr>\n",
       "  <th>0</th> <td> 2.842e+04</td> <td> 8112.952</td> <td>    3.503</td> <td> 0.001</td> <td> 1.19e+04</td> <td> 4.49e+04</td>\n",
       "</tr>\n",
       "<tr>\n",
       "  <th>1</th> <td> 8070.3776</td> <td> 5731.650</td> <td>    1.408</td> <td> 0.168</td> <td>-3565.491</td> <td> 1.97e+04</td>\n",
       "</tr>\n",
       "<tr>\n",
       "  <th>2</th> <td> 2882.3317</td> <td> 7149.728</td> <td>    0.403</td> <td> 0.689</td> <td>-1.16e+04</td> <td> 1.74e+04</td>\n",
       "</tr>\n",
       "<tr>\n",
       "  <th>3</th> <td> 1.747e+04</td> <td> 6205.202</td> <td>    2.815</td> <td> 0.008</td> <td> 4869.251</td> <td> 3.01e+04</td>\n",
       "</tr>\n",
       "<tr>\n",
       "  <th>4</th> <td>  810.2389</td> <td>  289.491</td> <td>    2.799</td> <td> 0.008</td> <td>  222.540</td> <td> 1397.938</td>\n",
       "</tr>\n",
       "<tr>\n",
       "  <th>5</th> <td>    0.2475</td> <td>    0.033</td> <td>    7.547</td> <td> 0.000</td> <td>    0.181</td> <td>    0.314</td>\n",
       "</tr>\n",
       "</table>\n",
       "<table class=\"simpletable\">\n",
       "<tr>\n",
       "  <th>Omnibus:</th>       <td> 5.355</td> <th>  Durbin-Watson:     </th> <td>   1.915</td>\n",
       "</tr>\n",
       "<tr>\n",
       "  <th>Prob(Omnibus):</th> <td> 0.069</td> <th>  Jarque-Bera (JB):  </th> <td>   4.410</td>\n",
       "</tr>\n",
       "<tr>\n",
       "  <th>Skew:</th>          <td>-0.501</td> <th>  Prob(JB):          </th> <td>   0.110</td>\n",
       "</tr>\n",
       "<tr>\n",
       "  <th>Kurtosis:</th>      <td> 4.281</td> <th>  Cond. No.          </th> <td>9.56e+17</td>\n",
       "</tr>\n",
       "</table><br/><br/>Notes:<br/>[1] Standard Errors assume that the covariance matrix of the errors is correctly specified.<br/>[2] The smallest eigenvalue is 2.46e-24. This might indicate that there are<br/>strong multicollinearity problems or that the design matrix is singular."
      ],
      "text/plain": [
       "<class 'statsmodels.iolib.summary.Summary'>\n",
       "\"\"\"\n",
       "                            OLS Regression Results                            \n",
       "==============================================================================\n",
       "Dep. Variable:                      y   R-squared:                       0.662\n",
       "Model:                            OLS   Adj. R-squared:                  0.623\n",
       "Method:                 Least Squares   F-statistic:                     17.13\n",
       "Date:                Sun, 11 Jul 2021   Prob (F-statistic):           7.19e-08\n",
       "Time:                        18:41:19   Log-Likelihood:                -459.39\n",
       "No. Observations:                  40   AIC:                             928.8\n",
       "Df Residuals:                      35   BIC:                             937.2\n",
       "Df Model:                           4                                         \n",
       "Covariance Type:            nonrobust                                         \n",
       "==============================================================================\n",
       "                 coef    std err          t      P>|t|      [0.025      0.975]\n",
       "------------------------------------------------------------------------------\n",
       "0           2.842e+04   8112.952      3.503      0.001    1.19e+04    4.49e+04\n",
       "1           8070.3776   5731.650      1.408      0.168   -3565.491    1.97e+04\n",
       "2           2882.3317   7149.728      0.403      0.689   -1.16e+04    1.74e+04\n",
       "3           1.747e+04   6205.202      2.815      0.008    4869.251    3.01e+04\n",
       "4            810.2389    289.491      2.799      0.008     222.540    1397.938\n",
       "5              0.2475      0.033      7.547      0.000       0.181       0.314\n",
       "==============================================================================\n",
       "Omnibus:                        5.355   Durbin-Watson:                   1.915\n",
       "Prob(Omnibus):                  0.069   Jarque-Bera (JB):                4.410\n",
       "Skew:                          -0.501   Prob(JB):                        0.110\n",
       "Kurtosis:                       4.281   Cond. No.                     9.56e+17\n",
       "==============================================================================\n",
       "\n",
       "Notes:\n",
       "[1] Standard Errors assume that the covariance matrix of the errors is correctly specified.\n",
       "[2] The smallest eigenvalue is 2.46e-24. This might indicate that there are\n",
       "strong multicollinearity problems or that the design matrix is singular.\n",
       "\"\"\""
      ]
     },
     "execution_count": 98,
     "metadata": {},
     "output_type": "execute_result"
    }
   ],
   "source": [
    "# 第一种方法\r\n",
    "import statsmodels.api as sm      # 导入模块\r\n",
    "model = sm.OLS(y_train, X_opt)    # 最小二乘建模\r\n",
    "regressor_OLS = model.fit()       # 拟合模型\r\n",
    "regressor_OLS.summary()           # 评价模型"
   ]
  },
  {
   "cell_type": "code",
   "execution_count": 99,
   "metadata": {
    "collapsed": false
   },
   "outputs": [
    {
     "data": {
      "text/html": [
       "<table class=\"simpletable\">\n",
       "<caption>OLS Regression Results</caption>\n",
       "<tr>\n",
       "  <th>Dep. Variable:</th>         <td>y_train</td>     <th>  R-squared:         </th> <td>   0.662</td>\n",
       "</tr>\n",
       "<tr>\n",
       "  <th>Model:</th>                   <td>OLS</td>       <th>  Adj. R-squared:    </th> <td>   0.623</td>\n",
       "</tr>\n",
       "<tr>\n",
       "  <th>Method:</th>             <td>Least Squares</td>  <th>  F-statistic:       </th> <td>   17.13</td>\n",
       "</tr>\n",
       "<tr>\n",
       "  <th>Date:</th>             <td>Sun, 11 Jul 2021</td> <th>  Prob (F-statistic):</th> <td>7.19e-08</td>\n",
       "</tr>\n",
       "<tr>\n",
       "  <th>Time:</th>                 <td>18:41:19</td>     <th>  Log-Likelihood:    </th> <td> -459.39</td>\n",
       "</tr>\n",
       "<tr>\n",
       "  <th>No. Observations:</th>      <td>    40</td>      <th>  AIC:               </th> <td>   928.8</td>\n",
       "</tr>\n",
       "<tr>\n",
       "  <th>Df Residuals:</th>          <td>    35</td>      <th>  BIC:               </th> <td>   937.2</td>\n",
       "</tr>\n",
       "<tr>\n",
       "  <th>Df Model:</th>              <td>     4</td>      <th>                     </th>     <td> </td>   \n",
       "</tr>\n",
       "<tr>\n",
       "  <th>Covariance Type:</th>      <td>nonrobust</td>    <th>                     </th>     <td> </td>   \n",
       "</tr>\n",
       "</table>\n",
       "<table class=\"simpletable\">\n",
       "<tr>\n",
       "      <td></td>         <th>coef</th>     <th>std err</th>      <th>t</th>      <th>P>|t|</th>  <th>[0.025</th>    <th>0.975]</th>  \n",
       "</tr>\n",
       "<tr>\n",
       "  <th>Intercept</th> <td> 1.624e+04</td> <td> 4635.972</td> <td>    3.503</td> <td> 0.001</td> <td> 6828.013</td> <td> 2.57e+04</td>\n",
       "</tr>\n",
       "<tr>\n",
       "  <th>X_opt[0]</th>  <td> 1.624e+04</td> <td> 4635.972</td> <td>    3.503</td> <td> 0.001</td> <td> 6828.013</td> <td> 2.57e+04</td>\n",
       "</tr>\n",
       "<tr>\n",
       "  <th>X_opt[1]</th>  <td> 4010.4933</td> <td> 5481.293</td> <td>    0.732</td> <td> 0.469</td> <td>-7117.123</td> <td> 1.51e+04</td>\n",
       "</tr>\n",
       "<tr>\n",
       "  <th>X_opt[2]</th>  <td>-1177.5526</td> <td> 6627.902</td> <td>   -0.178</td> <td> 0.860</td> <td>-1.46e+04</td> <td> 1.23e+04</td>\n",
       "</tr>\n",
       "<tr>\n",
       "  <th>X_opt[3]</th>  <td> 1.341e+04</td> <td> 5807.357</td> <td>    2.309</td> <td> 0.027</td> <td> 1617.036</td> <td> 2.52e+04</td>\n",
       "</tr>\n",
       "<tr>\n",
       "  <th>X_opt[4]</th>  <td>  810.2389</td> <td>  289.491</td> <td>    2.799</td> <td> 0.008</td> <td>  222.540</td> <td> 1397.938</td>\n",
       "</tr>\n",
       "<tr>\n",
       "  <th>X_opt[5]</th>  <td>    0.2475</td> <td>    0.033</td> <td>    7.547</td> <td> 0.000</td> <td>    0.181</td> <td>    0.314</td>\n",
       "</tr>\n",
       "</table>\n",
       "<table class=\"simpletable\">\n",
       "<tr>\n",
       "  <th>Omnibus:</th>       <td> 5.355</td> <th>  Durbin-Watson:     </th> <td>   1.915</td>\n",
       "</tr>\n",
       "<tr>\n",
       "  <th>Prob(Omnibus):</th> <td> 0.069</td> <th>  Jarque-Bera (JB):  </th> <td>   4.410</td>\n",
       "</tr>\n",
       "<tr>\n",
       "  <th>Skew:</th>          <td>-0.501</td> <th>  Prob(JB):          </th> <td>   0.110</td>\n",
       "</tr>\n",
       "<tr>\n",
       "  <th>Kurtosis:</th>      <td> 4.281</td> <th>  Cond. No.          </th> <td>3.66e+22</td>\n",
       "</tr>\n",
       "</table><br/><br/>Notes:<br/>[1] Standard Errors assume that the covariance matrix of the errors is correctly specified.<br/>[2] The smallest eigenvalue is 1.68e-33. This might indicate that there are<br/>strong multicollinearity problems or that the design matrix is singular."
      ],
      "text/plain": [
       "<class 'statsmodels.iolib.summary.Summary'>\n",
       "\"\"\"\n",
       "                            OLS Regression Results                            \n",
       "==============================================================================\n",
       "Dep. Variable:                y_train   R-squared:                       0.662\n",
       "Model:                            OLS   Adj. R-squared:                  0.623\n",
       "Method:                 Least Squares   F-statistic:                     17.13\n",
       "Date:                Sun, 11 Jul 2021   Prob (F-statistic):           7.19e-08\n",
       "Time:                        18:41:19   Log-Likelihood:                -459.39\n",
       "No. Observations:                  40   AIC:                             928.8\n",
       "Df Residuals:                      35   BIC:                             937.2\n",
       "Df Model:                           4                                         \n",
       "Covariance Type:            nonrobust                                         \n",
       "==============================================================================\n",
       "                 coef    std err          t      P>|t|      [0.025      0.975]\n",
       "------------------------------------------------------------------------------\n",
       "Intercept   1.624e+04   4635.972      3.503      0.001    6828.013    2.57e+04\n",
       "X_opt[0]    1.624e+04   4635.972      3.503      0.001    6828.013    2.57e+04\n",
       "X_opt[1]    4010.4933   5481.293      0.732      0.469   -7117.123    1.51e+04\n",
       "X_opt[2]   -1177.5526   6627.902     -0.178      0.860   -1.46e+04    1.23e+04\n",
       "X_opt[3]    1.341e+04   5807.357      2.309      0.027    1617.036    2.52e+04\n",
       "X_opt[4]     810.2389    289.491      2.799      0.008     222.540    1397.938\n",
       "X_opt[5]       0.2475      0.033      7.547      0.000       0.181       0.314\n",
       "==============================================================================\n",
       "Omnibus:                        5.355   Durbin-Watson:                   1.915\n",
       "Prob(Omnibus):                  0.069   Jarque-Bera (JB):                4.410\n",
       "Skew:                          -0.501   Prob(JB):                        0.110\n",
       "Kurtosis:                       4.281   Cond. No.                     3.66e+22\n",
       "==============================================================================\n",
       "\n",
       "Notes:\n",
       "[1] Standard Errors assume that the covariance matrix of the errors is correctly specified.\n",
       "[2] The smallest eigenvalue is 1.68e-33. This might indicate that there are\n",
       "strong multicollinearity problems or that the design matrix is singular.\n",
       "\"\"\""
      ]
     },
     "execution_count": 99,
     "metadata": {},
     "output_type": "execute_result"
    }
   ],
   "source": [
    "# 第二种方法\r\n",
    "import statsmodels.formula.api as sm     # 导入模块\r\n",
    "model = sm.ols('y_train~X_opt', X_opt)   # 最小二乘建模\r\n",
    "regressor_OLS = model.fit()              # 拟合模型\r\n",
    "regressor_OLS.summary()                  # 评价模型"
   ]
  },
  {
   "cell_type": "code",
   "execution_count": 100,
   "metadata": {
    "collapsed": false
   },
   "outputs": [
    {
     "data": {
      "text/html": [
       "<table class=\"simpletable\">\n",
       "<caption>OLS Regression Results</caption>\n",
       "<tr>\n",
       "  <th>Dep. Variable:</th>         <td>y_train</td>     <th>  R-squared:         </th> <td>   0.662</td>\n",
       "</tr>\n",
       "<tr>\n",
       "  <th>Model:</th>                   <td>OLS</td>       <th>  Adj. R-squared:    </th> <td>   0.623</td>\n",
       "</tr>\n",
       "<tr>\n",
       "  <th>Method:</th>             <td>Least Squares</td>  <th>  F-statistic:       </th> <td>   17.13</td>\n",
       "</tr>\n",
       "<tr>\n",
       "  <th>Date:</th>             <td>Sun, 11 Jul 2021</td> <th>  Prob (F-statistic):</th> <td>7.19e-08</td>\n",
       "</tr>\n",
       "<tr>\n",
       "  <th>Time:</th>                 <td>18:41:19</td>     <th>  Log-Likelihood:    </th> <td> -459.39</td>\n",
       "</tr>\n",
       "<tr>\n",
       "  <th>No. Observations:</th>      <td>    40</td>      <th>  AIC:               </th> <td>   928.8</td>\n",
       "</tr>\n",
       "<tr>\n",
       "  <th>Df Residuals:</th>          <td>    35</td>      <th>  BIC:               </th> <td>   937.2</td>\n",
       "</tr>\n",
       "<tr>\n",
       "  <th>Df Model:</th>              <td>     4</td>      <th>                     </th>     <td> </td>   \n",
       "</tr>\n",
       "<tr>\n",
       "  <th>Covariance Type:</th>      <td>nonrobust</td>    <th>                     </th>     <td> </td>   \n",
       "</tr>\n",
       "</table>\n",
       "<table class=\"simpletable\">\n",
       "<tr>\n",
       "      <td></td>         <th>coef</th>     <th>std err</th>      <th>t</th>      <th>P>|t|</th>  <th>[0.025</th>    <th>0.975]</th>  \n",
       "</tr>\n",
       "<tr>\n",
       "  <th>Intercept</th> <td> 1.565e+04</td> <td> 6645.829</td> <td>    2.355</td> <td> 0.024</td> <td> 2159.011</td> <td> 2.91e+04</td>\n",
       "</tr>\n",
       "<tr>\n",
       "  <th>X_opt[0]</th>  <td> 1.565e+04</td> <td> 6645.829</td> <td>    2.355</td> <td> 0.024</td> <td> 2159.011</td> <td> 2.91e+04</td>\n",
       "</tr>\n",
       "<tr>\n",
       "  <th>X_opt[1]</th>  <td> 5188.0458</td> <td> 1.03e+04</td> <td>    0.503</td> <td> 0.618</td> <td>-1.58e+04</td> <td> 2.61e+04</td>\n",
       "</tr>\n",
       "<tr>\n",
       "  <th>X_opt[2]</th>  <td> 1.458e+04</td> <td> 1.05e+04</td> <td>    1.393</td> <td> 0.172</td> <td>-6671.773</td> <td> 3.58e+04</td>\n",
       "</tr>\n",
       "<tr>\n",
       "  <th>X_opt[3]</th>  <td>  810.2389</td> <td>  289.491</td> <td>    2.799</td> <td> 0.008</td> <td>  222.540</td> <td> 1397.938</td>\n",
       "</tr>\n",
       "<tr>\n",
       "  <th>X_opt[4]</th>  <td>    0.2475</td> <td>    0.033</td> <td>    7.547</td> <td> 0.000</td> <td>    0.181</td> <td>    0.314</td>\n",
       "</tr>\n",
       "</table>\n",
       "<table class=\"simpletable\">\n",
       "<tr>\n",
       "  <th>Omnibus:</th>       <td> 5.355</td> <th>  Durbin-Watson:     </th> <td>   1.915</td>\n",
       "</tr>\n",
       "<tr>\n",
       "  <th>Prob(Omnibus):</th> <td> 0.069</td> <th>  Jarque-Bera (JB):  </th> <td>   4.410</td>\n",
       "</tr>\n",
       "<tr>\n",
       "  <th>Skew:</th>          <td>-0.501</td> <th>  Prob(JB):          </th> <td>   0.110</td>\n",
       "</tr>\n",
       "<tr>\n",
       "  <th>Kurtosis:</th>      <td> 4.281</td> <th>  Cond. No.          </th> <td>1.88e+18</td>\n",
       "</tr>\n",
       "</table><br/><br/>Notes:<br/>[1] Standard Errors assume that the covariance matrix of the errors is correctly specified.<br/>[2] The smallest eigenvalue is 6.32e-25. This might indicate that there are<br/>strong multicollinearity problems or that the design matrix is singular."
      ],
      "text/plain": [
       "<class 'statsmodels.iolib.summary.Summary'>\n",
       "\"\"\"\n",
       "                            OLS Regression Results                            \n",
       "==============================================================================\n",
       "Dep. Variable:                y_train   R-squared:                       0.662\n",
       "Model:                            OLS   Adj. R-squared:                  0.623\n",
       "Method:                 Least Squares   F-statistic:                     17.13\n",
       "Date:                Sun, 11 Jul 2021   Prob (F-statistic):           7.19e-08\n",
       "Time:                        18:41:19   Log-Likelihood:                -459.39\n",
       "No. Observations:                  40   AIC:                             928.8\n",
       "Df Residuals:                      35   BIC:                             937.2\n",
       "Df Model:                           4                                         \n",
       "Covariance Type:            nonrobust                                         \n",
       "==============================================================================\n",
       "                 coef    std err          t      P>|t|      [0.025      0.975]\n",
       "------------------------------------------------------------------------------\n",
       "Intercept   1.565e+04   6645.829      2.355      0.024    2159.011    2.91e+04\n",
       "X_opt[0]    1.565e+04   6645.829      2.355      0.024    2159.011    2.91e+04\n",
       "X_opt[1]    5188.0458   1.03e+04      0.503      0.618   -1.58e+04    2.61e+04\n",
       "X_opt[2]    1.458e+04   1.05e+04      1.393      0.172   -6671.773    3.58e+04\n",
       "X_opt[3]     810.2389    289.491      2.799      0.008     222.540    1397.938\n",
       "X_opt[4]       0.2475      0.033      7.547      0.000       0.181       0.314\n",
       "==============================================================================\n",
       "Omnibus:                        5.355   Durbin-Watson:                   1.915\n",
       "Prob(Omnibus):                  0.069   Jarque-Bera (JB):                4.410\n",
       "Skew:                          -0.501   Prob(JB):                        0.110\n",
       "Kurtosis:                       4.281   Cond. No.                     1.88e+18\n",
       "==============================================================================\n",
       "\n",
       "Notes:\n",
       "[1] Standard Errors assume that the covariance matrix of the errors is correctly specified.\n",
       "[2] The smallest eigenvalue is 6.32e-25. This might indicate that there are\n",
       "strong multicollinearity problems or that the design matrix is singular.\n",
       "\"\"\""
      ]
     },
     "execution_count": 100,
     "metadata": {},
     "output_type": "execute_result"
    }
   ],
   "source": [
    "X_opt = X_train.iloc[:, [0, 1, 3, 4, 5]]\n",
    "model = sm.ols('y_train~X_opt', X_opt)   # 最小二乘建模\n",
    "regressor_OLS = model.fit()              # 拟合模型\n",
    "regressor_OLS.summary()                  # 评价模型"
   ]
  },
  {
   "cell_type": "code",
   "execution_count": 101,
   "metadata": {
    "collapsed": false
   },
   "outputs": [
    {
     "data": {
      "text/html": [
       "<table class=\"simpletable\">\n",
       "<caption>OLS Regression Results</caption>\n",
       "<tr>\n",
       "  <th>Dep. Variable:</th>         <td>y_train</td>     <th>  R-squared:         </th> <td>   0.660</td>\n",
       "</tr>\n",
       "<tr>\n",
       "  <th>Model:</th>                   <td>OLS</td>       <th>  Adj. R-squared:    </th> <td>   0.631</td>\n",
       "</tr>\n",
       "<tr>\n",
       "  <th>Method:</th>             <td>Least Squares</td>  <th>  F-statistic:       </th> <td>   23.24</td>\n",
       "</tr>\n",
       "<tr>\n",
       "  <th>Date:</th>             <td>Sun, 11 Jul 2021</td> <th>  Prob (F-statistic):</th> <td>1.52e-08</td>\n",
       "</tr>\n",
       "<tr>\n",
       "  <th>Time:</th>                 <td>18:41:19</td>     <th>  Log-Likelihood:    </th> <td> -459.54</td>\n",
       "</tr>\n",
       "<tr>\n",
       "  <th>No. Observations:</th>      <td>    40</td>      <th>  AIC:               </th> <td>   927.1</td>\n",
       "</tr>\n",
       "<tr>\n",
       "  <th>Df Residuals:</th>          <td>    36</td>      <th>  BIC:               </th> <td>   933.8</td>\n",
       "</tr>\n",
       "<tr>\n",
       "  <th>Df Model:</th>              <td>     3</td>      <th>                     </th>     <td> </td>   \n",
       "</tr>\n",
       "<tr>\n",
       "  <th>Covariance Type:</th>      <td>nonrobust</td>    <th>                     </th>     <td> </td>   \n",
       "</tr>\n",
       "</table>\n",
       "<table class=\"simpletable\">\n",
       "<tr>\n",
       "      <td></td>         <th>coef</th>     <th>std err</th>      <th>t</th>      <th>P>|t|</th>  <th>[0.025</th>    <th>0.975]</th>  \n",
       "</tr>\n",
       "<tr>\n",
       "  <th>Intercept</th> <td> 1.754e+04</td> <td> 5419.048</td> <td>    3.237</td> <td> 0.003</td> <td> 6553.635</td> <td> 2.85e+04</td>\n",
       "</tr>\n",
       "<tr>\n",
       "  <th>X_opt[0]</th>  <td> 1.754e+04</td> <td> 5419.048</td> <td>    3.237</td> <td> 0.003</td> <td> 6553.635</td> <td> 2.85e+04</td>\n",
       "</tr>\n",
       "<tr>\n",
       "  <th>X_opt[1]</th>  <td>  1.14e+04</td> <td> 8254.505</td> <td>    1.381</td> <td> 0.176</td> <td>-5338.531</td> <td> 2.81e+04</td>\n",
       "</tr>\n",
       "<tr>\n",
       "  <th>X_opt[2]</th>  <td>  811.0712</td> <td>  286.467</td> <td>    2.831</td> <td> 0.008</td> <td>  230.090</td> <td> 1392.052</td>\n",
       "</tr>\n",
       "<tr>\n",
       "  <th>X_opt[3]</th>  <td>    0.2444</td> <td>    0.032</td> <td>    7.666</td> <td> 0.000</td> <td>    0.180</td> <td>    0.309</td>\n",
       "</tr>\n",
       "</table>\n",
       "<table class=\"simpletable\">\n",
       "<tr>\n",
       "  <th>Omnibus:</th>       <td> 6.335</td> <th>  Durbin-Watson:     </th> <td>   1.919</td>\n",
       "</tr>\n",
       "<tr>\n",
       "  <th>Prob(Omnibus):</th> <td> 0.042</td> <th>  Jarque-Bera (JB):  </th> <td>   5.908</td>\n",
       "</tr>\n",
       "<tr>\n",
       "  <th>Skew:</th>          <td>-0.527</td> <th>  Prob(JB):          </th> <td>  0.0521</td>\n",
       "</tr>\n",
       "<tr>\n",
       "  <th>Kurtosis:</th>      <td> 4.560</td> <th>  Cond. No.          </th> <td>1.94e+18</td>\n",
       "</tr>\n",
       "</table><br/><br/>Notes:<br/>[1] Standard Errors assume that the covariance matrix of the errors is correctly specified.<br/>[2] The smallest eigenvalue is 5.99e-25. This might indicate that there are<br/>strong multicollinearity problems or that the design matrix is singular."
      ],
      "text/plain": [
       "<class 'statsmodels.iolib.summary.Summary'>\n",
       "\"\"\"\n",
       "                            OLS Regression Results                            \n",
       "==============================================================================\n",
       "Dep. Variable:                y_train   R-squared:                       0.660\n",
       "Model:                            OLS   Adj. R-squared:                  0.631\n",
       "Method:                 Least Squares   F-statistic:                     23.24\n",
       "Date:                Sun, 11 Jul 2021   Prob (F-statistic):           1.52e-08\n",
       "Time:                        18:41:19   Log-Likelihood:                -459.54\n",
       "No. Observations:                  40   AIC:                             927.1\n",
       "Df Residuals:                      36   BIC:                             933.8\n",
       "Df Model:                           3                                         \n",
       "Covariance Type:            nonrobust                                         \n",
       "==============================================================================\n",
       "                 coef    std err          t      P>|t|      [0.025      0.975]\n",
       "------------------------------------------------------------------------------\n",
       "Intercept   1.754e+04   5419.048      3.237      0.003    6553.635    2.85e+04\n",
       "X_opt[0]    1.754e+04   5419.048      3.237      0.003    6553.635    2.85e+04\n",
       "X_opt[1]     1.14e+04   8254.505      1.381      0.176   -5338.531    2.81e+04\n",
       "X_opt[2]     811.0712    286.467      2.831      0.008     230.090    1392.052\n",
       "X_opt[3]       0.2444      0.032      7.666      0.000       0.180       0.309\n",
       "==============================================================================\n",
       "Omnibus:                        6.335   Durbin-Watson:                   1.919\n",
       "Prob(Omnibus):                  0.042   Jarque-Bera (JB):                5.908\n",
       "Skew:                          -0.527   Prob(JB):                       0.0521\n",
       "Kurtosis:                       4.560   Cond. No.                     1.94e+18\n",
       "==============================================================================\n",
       "\n",
       "Notes:\n",
       "[1] Standard Errors assume that the covariance matrix of the errors is correctly specified.\n",
       "[2] The smallest eigenvalue is 5.99e-25. This might indicate that there are\n",
       "strong multicollinearity problems or that the design matrix is singular.\n",
       "\"\"\""
      ]
     },
     "execution_count": 101,
     "metadata": {},
     "output_type": "execute_result"
    }
   ],
   "source": [
    "X_opt = X_train.iloc[:, [0, 3, 4, 5]]\n",
    "model = sm.ols('y_train~X_opt', X_opt)   # 最小二乘建模\n",
    "regressor_OLS = model.fit()              # 拟合模型\n",
    "regressor_OLS.summary()                  # 评价模型"
   ]
  },
  {
   "cell_type": "code",
   "execution_count": 102,
   "metadata": {
    "collapsed": false
   },
   "outputs": [
    {
     "data": {
      "text/html": [
       "<table class=\"simpletable\">\n",
       "<caption>OLS Regression Results</caption>\n",
       "<tr>\n",
       "  <th>Dep. Variable:</th>         <td>y_train</td>     <th>  R-squared:         </th> <td>   0.584</td>\n",
       "</tr>\n",
       "<tr>\n",
       "  <th>Model:</th>                   <td>OLS</td>       <th>  Adj. R-squared:    </th> <td>   0.561</td>\n",
       "</tr>\n",
       "<tr>\n",
       "  <th>Method:</th>             <td>Least Squares</td>  <th>  F-statistic:       </th> <td>   25.94</td>\n",
       "</tr>\n",
       "<tr>\n",
       "  <th>Date:</th>             <td>Sun, 11 Jul 2021</td> <th>  Prob (F-statistic):</th> <td>9.10e-08</td>\n",
       "</tr>\n",
       "<tr>\n",
       "  <th>Time:</th>                 <td>18:41:19</td>     <th>  Log-Likelihood:    </th> <td> -463.56</td>\n",
       "</tr>\n",
       "<tr>\n",
       "  <th>No. Observations:</th>      <td>    40</td>      <th>  AIC:               </th> <td>   933.1</td>\n",
       "</tr>\n",
       "<tr>\n",
       "  <th>Df Residuals:</th>          <td>    37</td>      <th>  BIC:               </th> <td>   938.2</td>\n",
       "</tr>\n",
       "<tr>\n",
       "  <th>Df Model:</th>              <td>     2</td>      <th>                     </th>     <td> </td>   \n",
       "</tr>\n",
       "<tr>\n",
       "  <th>Covariance Type:</th>      <td>nonrobust</td>    <th>                     </th>     <td> </td>   \n",
       "</tr>\n",
       "</table>\n",
       "<table class=\"simpletable\">\n",
       "<tr>\n",
       "      <td></td>         <th>coef</th>     <th>std err</th>      <th>t</th>      <th>P>|t|</th>  <th>[0.025</th>    <th>0.975]</th>  \n",
       "</tr>\n",
       "<tr>\n",
       "  <th>Intercept</th> <td> 2.782e+04</td> <td> 4390.347</td> <td>    6.336</td> <td> 0.000</td> <td> 1.89e+04</td> <td> 3.67e+04</td>\n",
       "</tr>\n",
       "<tr>\n",
       "  <th>X_opt[0]</th>  <td> 2.782e+04</td> <td> 4390.347</td> <td>    6.336</td> <td> 0.000</td> <td> 1.89e+04</td> <td> 3.67e+04</td>\n",
       "</tr>\n",
       "<tr>\n",
       "  <th>X_opt[1]</th>  <td> 1.203e+04</td> <td> 8999.931</td> <td>    1.337</td> <td> 0.189</td> <td>-6204.146</td> <td> 3.03e+04</td>\n",
       "</tr>\n",
       "<tr>\n",
       "  <th>X_opt[2]</th>  <td>    0.2454</td> <td>    0.035</td> <td>    7.057</td> <td> 0.000</td> <td>    0.175</td> <td>    0.316</td>\n",
       "</tr>\n",
       "</table>\n",
       "<table class=\"simpletable\">\n",
       "<tr>\n",
       "  <th>Omnibus:</th>       <td> 4.331</td> <th>  Durbin-Watson:     </th> <td>   2.017</td>\n",
       "</tr>\n",
       "<tr>\n",
       "  <th>Prob(Omnibus):</th> <td> 0.115</td> <th>  Jarque-Bera (JB):  </th> <td>   4.136</td>\n",
       "</tr>\n",
       "<tr>\n",
       "  <th>Skew:</th>          <td>-0.186</td> <th>  Prob(JB):          </th> <td>   0.126</td>\n",
       "</tr>\n",
       "<tr>\n",
       "  <th>Kurtosis:</th>      <td> 4.531</td> <th>  Cond. No.          </th> <td>4.26e+18</td>\n",
       "</tr>\n",
       "</table><br/><br/>Notes:<br/>[1] Standard Errors assume that the covariance matrix of the errors is correctly specified.<br/>[2] The smallest eigenvalue is 1.24e-25. This might indicate that there are<br/>strong multicollinearity problems or that the design matrix is singular."
      ],
      "text/plain": [
       "<class 'statsmodels.iolib.summary.Summary'>\n",
       "\"\"\"\n",
       "                            OLS Regression Results                            \n",
       "==============================================================================\n",
       "Dep. Variable:                y_train   R-squared:                       0.584\n",
       "Model:                            OLS   Adj. R-squared:                  0.561\n",
       "Method:                 Least Squares   F-statistic:                     25.94\n",
       "Date:                Sun, 11 Jul 2021   Prob (F-statistic):           9.10e-08\n",
       "Time:                        18:41:19   Log-Likelihood:                -463.56\n",
       "No. Observations:                  40   AIC:                             933.1\n",
       "Df Residuals:                      37   BIC:                             938.2\n",
       "Df Model:                           2                                         \n",
       "Covariance Type:            nonrobust                                         \n",
       "==============================================================================\n",
       "                 coef    std err          t      P>|t|      [0.025      0.975]\n",
       "------------------------------------------------------------------------------\n",
       "Intercept   2.782e+04   4390.347      6.336      0.000    1.89e+04    3.67e+04\n",
       "X_opt[0]    2.782e+04   4390.347      6.336      0.000    1.89e+04    3.67e+04\n",
       "X_opt[1]    1.203e+04   8999.931      1.337      0.189   -6204.146    3.03e+04\n",
       "X_opt[2]       0.2454      0.035      7.057      0.000       0.175       0.316\n",
       "==============================================================================\n",
       "Omnibus:                        4.331   Durbin-Watson:                   2.017\n",
       "Prob(Omnibus):                  0.115   Jarque-Bera (JB):                4.136\n",
       "Skew:                          -0.186   Prob(JB):                        0.126\n",
       "Kurtosis:                       4.531   Cond. No.                     4.26e+18\n",
       "==============================================================================\n",
       "\n",
       "Notes:\n",
       "[1] Standard Errors assume that the covariance matrix of the errors is correctly specified.\n",
       "[2] The smallest eigenvalue is 1.24e-25. This might indicate that there are\n",
       "strong multicollinearity problems or that the design matrix is singular.\n",
       "\"\"\""
      ]
     },
     "execution_count": 102,
     "metadata": {},
     "output_type": "execute_result"
    }
   ],
   "source": [
    "X_opt = X_train.iloc[:, [0, 3, 5]]\n",
    "model = sm.ols('y_train~X_opt', X_opt)   # 最小二乘建模\n",
    "regressor_OLS = model.fit()              # 拟合模型\n",
    "regressor_OLS.summary()                  # 评价模型"
   ]
  },
  {
   "cell_type": "code",
   "execution_count": 103,
   "metadata": {
    "collapsed": false
   },
   "outputs": [
    {
     "data": {
      "text/html": [
       "<table class=\"simpletable\">\n",
       "<caption>OLS Regression Results</caption>\n",
       "<tr>\n",
       "  <th>Dep. Variable:</th>         <td>y_train</td>     <th>  R-squared:         </th> <td>   0.023</td>\n",
       "</tr>\n",
       "<tr>\n",
       "  <th>Model:</th>                   <td>OLS</td>       <th>  Adj. R-squared:    </th> <td>  -0.002</td>\n",
       "</tr>\n",
       "<tr>\n",
       "  <th>Method:</th>             <td>Least Squares</td>  <th>  F-statistic:       </th> <td>  0.9072</td>\n",
       "</tr>\n",
       "<tr>\n",
       "  <th>Date:</th>             <td>Sun, 11 Jul 2021</td> <th>  Prob (F-statistic):</th>  <td> 0.347</td> \n",
       "</tr>\n",
       "<tr>\n",
       "  <th>Time:</th>                 <td>18:41:19</td>     <th>  Log-Likelihood:    </th> <td> -480.61</td>\n",
       "</tr>\n",
       "<tr>\n",
       "  <th>No. Observations:</th>      <td>    40</td>      <th>  AIC:               </th> <td>   965.2</td>\n",
       "</tr>\n",
       "<tr>\n",
       "  <th>Df Residuals:</th>          <td>    38</td>      <th>  BIC:               </th> <td>   968.6</td>\n",
       "</tr>\n",
       "<tr>\n",
       "  <th>Df Model:</th>              <td>     1</td>      <th>                     </th>     <td> </td>   \n",
       "</tr>\n",
       "<tr>\n",
       "  <th>Covariance Type:</th>      <td>nonrobust</td>    <th>                     </th>     <td> </td>   \n",
       "</tr>\n",
       "</table>\n",
       "<table class=\"simpletable\">\n",
       "<tr>\n",
       "      <td></td>         <th>coef</th>     <th>std err</th>      <th>t</th>      <th>P>|t|</th>  <th>[0.025</th>    <th>0.975]</th>  \n",
       "</tr>\n",
       "<tr>\n",
       "  <th>Intercept</th> <td> 5.246e+04</td> <td> 4023.326</td> <td>   13.038</td> <td> 0.000</td> <td> 4.43e+04</td> <td> 6.06e+04</td>\n",
       "</tr>\n",
       "<tr>\n",
       "  <th>X_opt[0]</th>  <td> 5.246e+04</td> <td> 4023.326</td> <td>   13.038</td> <td> 0.000</td> <td> 4.43e+04</td> <td> 6.06e+04</td>\n",
       "</tr>\n",
       "<tr>\n",
       "  <th>X_opt[1]</th>  <td> 1.295e+04</td> <td> 1.36e+04</td> <td>    0.952</td> <td> 0.347</td> <td>-1.46e+04</td> <td> 4.05e+04</td>\n",
       "</tr>\n",
       "</table>\n",
       "<table class=\"simpletable\">\n",
       "<tr>\n",
       "  <th>Omnibus:</th>       <td> 0.065</td> <th>  Durbin-Watson:     </th> <td>   1.954</td>\n",
       "</tr>\n",
       "<tr>\n",
       "  <th>Prob(Omnibus):</th> <td> 0.968</td> <th>  Jarque-Bera (JB):  </th> <td>   0.117</td>\n",
       "</tr>\n",
       "<tr>\n",
       "  <th>Skew:</th>          <td>-0.078</td> <th>  Prob(JB):          </th> <td>   0.943</td>\n",
       "</tr>\n",
       "<tr>\n",
       "  <th>Kurtosis:</th>      <td> 2.786</td> <th>  Cond. No.          </th> <td>4.46e+15</td>\n",
       "</tr>\n",
       "</table><br/><br/>Notes:<br/>[1] Standard Errors assume that the covariance matrix of the errors is correctly specified.<br/>[2] The smallest eigenvalue is 4.3e-30. This might indicate that there are<br/>strong multicollinearity problems or that the design matrix is singular."
      ],
      "text/plain": [
       "<class 'statsmodels.iolib.summary.Summary'>\n",
       "\"\"\"\n",
       "                            OLS Regression Results                            \n",
       "==============================================================================\n",
       "Dep. Variable:                y_train   R-squared:                       0.023\n",
       "Model:                            OLS   Adj. R-squared:                 -0.002\n",
       "Method:                 Least Squares   F-statistic:                    0.9072\n",
       "Date:                Sun, 11 Jul 2021   Prob (F-statistic):              0.347\n",
       "Time:                        18:41:19   Log-Likelihood:                -480.61\n",
       "No. Observations:                  40   AIC:                             965.2\n",
       "Df Residuals:                      38   BIC:                             968.6\n",
       "Df Model:                           1                                         \n",
       "Covariance Type:            nonrobust                                         \n",
       "==============================================================================\n",
       "                 coef    std err          t      P>|t|      [0.025      0.975]\n",
       "------------------------------------------------------------------------------\n",
       "Intercept   5.246e+04   4023.326     13.038      0.000    4.43e+04    6.06e+04\n",
       "X_opt[0]    5.246e+04   4023.326     13.038      0.000    4.43e+04    6.06e+04\n",
       "X_opt[1]    1.295e+04   1.36e+04      0.952      0.347   -1.46e+04    4.05e+04\n",
       "==============================================================================\n",
       "Omnibus:                        0.065   Durbin-Watson:                   1.954\n",
       "Prob(Omnibus):                  0.968   Jarque-Bera (JB):                0.117\n",
       "Skew:                          -0.078   Prob(JB):                        0.943\n",
       "Kurtosis:                       2.786   Cond. No.                     4.46e+15\n",
       "==============================================================================\n",
       "\n",
       "Notes:\n",
       "[1] Standard Errors assume that the covariance matrix of the errors is correctly specified.\n",
       "[2] The smallest eigenvalue is 4.3e-30. This might indicate that there are\n",
       "strong multicollinearity problems or that the design matrix is singular.\n",
       "\"\"\""
      ]
     },
     "execution_count": 103,
     "metadata": {},
     "output_type": "execute_result"
    }
   ],
   "source": [
    "X_opt = X_train.iloc[:, [0, 3]]\n",
    "model = sm.ols('y_train~X_opt', X_opt)   # 最小二乘建模\n",
    "regressor_OLS = model.fit()              # 拟合模型\n",
    "regressor_OLS.summary()                  # 评价模型"
   ]
  },
  {
   "cell_type": "markdown",
   "metadata": {
    "collapsed": false
   },
   "source": [
    "## 总结问题原因，并加以说明"
   ]
  },
  {
   "cell_type": "markdown",
   "metadata": {
    "collapsed": false
   },
   "source": [
    "查阅[资料](https://www.statsmodels.org/stable/api.html)发现statsmodels提供了两种ols：\n",
    "\n",
    "一种是在`statsmodels.api`中的[`OLS方法`](https://www.statsmodels.org/stable/generated/statsmodels.regression.linear_model.OLS.html#statsmodels.regression.linear_model.OLS),\n",
    "\n",
    "一种是在`statsmodels.formula.api`中的[`ols方法`](https://www.statsmodels.org/stable/generated/statsmodels.formula.api.ols.html#statsmodels.formula.api.ols)\n",
    "\n",
    "**上面的程序出错是因为ols方法接受的数据类型不匹配，我查看来一下发现本来X_opt 是ndarray，每个元素是Object类型\n",
    "我把它改成DataFrame类型并且把每个数字改为float就行了**\n"
   ]
  }
 ],
 "metadata": {
  "kernelspec": {
   "display_name": "PaddlePaddle 2.1.0 (Python 3.5)",
   "language": "python",
   "name": "py35-paddle1.2.0"
  },
  "language_info": {
   "codemirror_mode": {
    "name": "ipython",
    "version": 3
   },
   "file_extension": ".py",
   "mimetype": "text/x-python",
   "name": "python",
   "nbconvert_exporter": "python",
   "pygments_lexer": "ipython3",
   "version": "3.7.4"
  }
 },
 "nbformat": 4,
 "nbformat_minor": 1
}
